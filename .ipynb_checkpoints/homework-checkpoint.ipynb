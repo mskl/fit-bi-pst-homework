{
 "cells": [
  {
   "cell_type": "code",
   "execution_count": 8,
   "metadata": {
    "ExecuteTime": {
     "end_time": "2018-11-21T16:04:44.003664Z",
     "start_time": "2018-11-21T16:04:43.973Z"
    }
   },
   "outputs": [
    {
     "data": {
      "text/html": [
       "<span style=white-space:pre-wrap>'\\nOur dataset is case0402\\n\\nInformation:\\nEducational researchers randomly assigned 28 ninth-year students in Australia to receive coordinate\\ngeometry training in one of two ways: a conventional way and a modified way. After the training,\\nthe students were asked to solve a coordinate geometry problem. The time to complete the problem\\nwas recorded, but five students in the “conventional” group did not complete the solution in the five\\nminute alloted time.\\n\\nFormat: A data frame with 28 observations on the following 3 variables.\\nTime    - the time (in seconds) that the student worked on the problem\\nTreatmt - factor variable with two levels—\\'Modified\\' and \\'Conventional\\'\\nCensor  - 1 if the individual did not complete the problem in 5 minutes, 0 if they did\\n'</span>"
      ],
      "text/latex": [
       "'\\textbackslash{}nOur dataset is case0402\\textbackslash{}n\\textbackslash{}nInformation:\\textbackslash{}nEducational researchers randomly assigned 28 ninth-year students in Australia to receive coordinate\\textbackslash{}ngeometry training in one of two ways: a conventional way and a modified way. After the training,\\textbackslash{}nthe students were asked to solve a coordinate geometry problem. The time to complete the problem\\textbackslash{}nwas recorded, but five students in the “conventional” group did not complete the solution in the five\\textbackslash{}nminute alloted time.\\textbackslash{}n\\textbackslash{}nFormat: A data frame with 28 observations on the following 3 variables.\\textbackslash{}nTime    - the time (in seconds) that the student worked on the problem\\textbackslash{}nTreatmt - factor variable with two levels—\\textbackslash{}'Modified\\textbackslash{}' and \\textbackslash{}'Conventional\\textbackslash{}'\\textbackslash{}nCensor  - 1 if the individual did not complete the problem in 5 minutes, 0 if they did\\textbackslash{}n'"
      ],
      "text/markdown": [
       "<span style=white-space:pre-wrap>'\\nOur dataset is case0402\\n\\nInformation:\\nEducational researchers randomly assigned 28 ninth-year students in Australia to receive coordinate\\ngeometry training in one of two ways: a conventional way and a modified way. After the training,\\nthe students were asked to solve a coordinate geometry problem. The time to complete the problem\\nwas recorded, but five students in the “conventional” group did not complete the solution in the five\\nminute alloted time.\\n\\nFormat: A data frame with 28 observations on the following 3 variables.\\nTime    - the time (in seconds) that the student worked on the problem\\nTreatmt - factor variable with two levels—\\'Modified\\' and \\'Conventional\\'\\nCensor  - 1 if the individual did not complete the problem in 5 minutes, 0 if they did\\n'</span>"
      ],
      "text/plain": [
       "[1] \"\\nOur dataset is case0402\\n\\nInformation:\\nEducational researchers randomly assigned 28 ninth-year students in Australia to receive coordinate\\ngeometry training in one of two ways: a conventional way and a modified way. After the training,\\nthe students were asked to solve a coordinate geometry problem. The time to complete the problem\\nwas recorded, but five students in the “conventional” group did not complete the solution in the five\\nminute alloted time.\\n\\nFormat: A data frame with 28 observations on the following 3 variables.\\nTime    - the time (in seconds) that the student worked on the problem\\nTreatmt - factor variable with two levels—'Modified' and 'Conventional'\\nCensor  - 1 if the individual did not complete the problem in 5 minutes, 0 if they did\\n\""
      ]
     },
     "metadata": {},
     "output_type": "display_data"
    },
    {
     "name": "stdout",
     "output_type": "stream",
     "text": [
      "'data.frame':\t28 obs. of  3 variables:\n",
      " $ Time   : num  68 70 73 75 77 80 80 132 148 155 ...\n",
      " $ Treatmt: Factor w/ 2 levels \"Modified\",\"Conventional\": 1 1 1 1 1 1 1 1 1 1 ...\n",
      " $ Censor : num  0 0 0 0 0 0 0 0 0 0 ...\n"
     ]
    }
   ],
   "source": [
    "library(Sleuth2)\n",
    "\n",
    "\"\n",
    "Our dataset is case0402\n",
    "\n",
    "Information:\n",
    "Educational researchers randomly assigned 28 ninth-year students in Australia to receive coordinate\n",
    "geometry training in one of two ways: a conventional way and a modified way. After the training,\n",
    "the students were asked to solve a coordinate geometry problem. The time to complete the problem\n",
    "was recorded, but five students in the “conventional” group did not complete the solution in the five\n",
    "minute alloted time.\n",
    "\n",
    "Format: A data frame with 28 observations on the following 3 variables.\n",
    "Time    - the time (in seconds) that the student worked on the problem\n",
    "Treatmt - factor variable with two levels—'Modified' and 'Conventional'\n",
    "Censor  - 1 if the individual did not complete the problem in 5 minutes, 0 if they did\n",
    "\"\n",
    "\n",
    "str(case0402)"
   ]
  },
  {
   "cell_type": "code",
   "execution_count": null,
   "metadata": {},
   "outputs": [],
   "source": []
  }
 ],
 "metadata": {
  "kernelspec": {
   "display_name": "R",
   "language": "R",
   "name": "ir"
  },
  "language_info": {
   "codemirror_mode": "r",
   "file_extension": ".r",
   "mimetype": "text/x-r-source",
   "name": "R",
   "pygments_lexer": "r",
   "version": "3.5.1"
  }
 },
 "nbformat": 4,
 "nbformat_minor": 2
}
